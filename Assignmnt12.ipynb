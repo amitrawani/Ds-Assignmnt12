{
 "cells": [
  {
   "cell_type": "code",
   "execution_count": null,
   "id": "72a29215-d55e-4679-a886-4567806f0ab1",
   "metadata": {},
   "outputs": [],
   "source": [
    "Q1. What is an Exception in python? Write the difference between Exceptions and syntax errors?\n",
    "\n",
    "Ans: Exception is an event that occurs during the execution of a program that disrupts the normal flow of instructions. \n",
    "It is a way to handle errors or exceptional situations that can occur \n",
    "while the program is running.\n",
    "\n",
    "The main difference between Exceptions and Syntax errors is:\n",
    "    \n",
    "Exceptions: Exceptions occur during the runtime of a program when something unexpected or erroneous happens. They are raised when \n",
    "the program encounters an error condition that it cannot handle or when a specific condition specified by the programmer is met. \n",
    "Exceptions can be caught and handled using exception handling mechanisms, such as try-except blocks.\n",
    "\n",
    "Syntax errors: Syntax errors occur during the parsing of the code, before the program starts executing. \n",
    "They are caused by violations of the language's syntax rules. These errors indicate that the code is not written correctly and \n",
    "cannot be executed until the syntax errors are fixed. Common examples of syntax errors include misspelled keywords, missing colons, \n",
    "or incorrect indentation."
   ]
  },
  {
   "cell_type": "code",
   "execution_count": null,
   "id": "7dc67f2a-8f8c-40b5-abd9-99d2353312e4",
   "metadata": {},
   "outputs": [],
   "source": [
    "Q2. What happens when an exception is not handled? Explain with an example.\n",
    "\n",
    "Ans. When an exception is not handled, it results in the program terminating abruptly and displaying an error message. \n",
    "The error message provides information about the unhandled exception, such as the type of exception and the traceback showing the sequence of function\n",
    "calls that led to the exception."
   ]
  },
  {
   "cell_type": "code",
   "execution_count": 2,
   "id": "680dc2d1-ce0d-49df-b5d8-bdb4deab5cb4",
   "metadata": {},
   "outputs": [
    {
     "ename": "ZeroDivisionError",
     "evalue": "division by zero",
     "output_type": "error",
     "traceback": [
      "\u001b[0;31m---------------------------------------------------------------------------\u001b[0m",
      "\u001b[0;31mZeroDivisionError\u001b[0m                         Traceback (most recent call last)",
      "Cell \u001b[0;32mIn[2], line 9\u001b[0m\n\u001b[1;32m      6\u001b[0m     \u001b[38;5;28mprint\u001b[39m(\u001b[38;5;124m\"\u001b[39m\u001b[38;5;124mResult:\u001b[39m\u001b[38;5;124m\"\u001b[39m, result)\n\u001b[1;32m      8\u001b[0m \u001b[38;5;66;03m# Calling the function with invalid arguments\u001b[39;00m\n\u001b[0;32m----> 9\u001b[0m \u001b[43mdivide\u001b[49m\u001b[43m(\u001b[49m\u001b[38;5;241;43m10\u001b[39;49m\u001b[43m,\u001b[49m\u001b[43m \u001b[49m\u001b[38;5;241;43m0\u001b[39;49m\u001b[43m)\u001b[49m\n\u001b[1;32m     10\u001b[0m \u001b[38;5;28mprint\u001b[39m(\u001b[38;5;124m\"\u001b[39m\u001b[38;5;124mThis line will not be executed\u001b[39m\u001b[38;5;124m\"\u001b[39m)\n",
      "Cell \u001b[0;32mIn[2], line 5\u001b[0m, in \u001b[0;36mdivide\u001b[0;34m(x, y)\u001b[0m\n\u001b[1;32m      4\u001b[0m \u001b[38;5;28;01mdef\u001b[39;00m \u001b[38;5;21mdivide\u001b[39m(x, y):\n\u001b[0;32m----> 5\u001b[0m     result \u001b[38;5;241m=\u001b[39m \u001b[43mx\u001b[49m\u001b[43m \u001b[49m\u001b[38;5;241;43m/\u001b[39;49m\u001b[43m \u001b[49m\u001b[43my\u001b[49m\n\u001b[1;32m      6\u001b[0m     \u001b[38;5;28mprint\u001b[39m(\u001b[38;5;124m\"\u001b[39m\u001b[38;5;124mResult:\u001b[39m\u001b[38;5;124m\"\u001b[39m, result)\n",
      "\u001b[0;31mZeroDivisionError\u001b[0m: division by zero"
     ]
    }
   ],
   "source": [
    "# Example\n",
    "\n",
    "def divide(x, y):\n",
    "    result = x / y\n",
    "    print(\"Result:\", result)\n",
    "\n",
    "divide(10, 0)\n",
    "print(\"This line will not be executed\")\n",
    "\n"
   ]
  },
  {
   "cell_type": "code",
   "execution_count": null,
   "id": "0c600844-209e-4ef3-bd83-ceb354f80b0d",
   "metadata": {},
   "outputs": [],
   "source": [
    "Q3. Which Python statements are used to catch and handle exceptions? Explain with an example.\n",
    "\n",
    "Ans: The following statements are used to raise and handle exceptions:\n",
    "\n",
    "1. raise statement: It is used to explicitly raise an exception. The raise statement allows you to throw a specified exception manually. \n",
    "You can raise built-in exceptions or create your own custom exceptions.\n",
    "\n",
    "2. try-except block: It is used to handle exceptions. The try block contains the code that may raise an exception, \n",
    "and the except block is used to catch and handle specific exceptions raised in the try block."
   ]
  },
  {
   "cell_type": "code",
   "execution_count": 3,
   "id": "1b4ef669-7f84-4393-80d6-6b35983e7d19",
   "metadata": {},
   "outputs": [
    {
     "name": "stdout",
     "output_type": "stream",
     "text": [
      "Result: 5.0\n",
      "Exception: Cannot divide by zero\n"
     ]
    }
   ],
   "source": [
    "# Example\n",
    "def divide(x, y):\n",
    "    try:\n",
    "        if y == 0:\n",
    "            raise ZeroDivisionError(\"Cannot divide by zero\")\n",
    "        result = x / y\n",
    "        print(\"Result:\", result)\n",
    "    except ZeroDivisionError as error:\n",
    "        print(\"Exception:\", error)\n",
    "\n",
    "divide(10, 2)\n",
    "divide(10, 0)\n",
    "\n"
   ]
  },
  {
   "cell_type": "code",
   "execution_count": null,
   "id": "4c4cc42b-b1cb-4d5c-a397-428953d10822",
   "metadata": {},
   "outputs": [],
   "source": [
    "Q4. Explain with an example: \n",
    "    a. try and else \n",
    "    b. finally  \n",
    "    c. raise\n",
    "    "
   ]
  },
  {
   "cell_type": "code",
   "execution_count": 4,
   "id": "4715196a-39b8-486f-b3d5-7c2592d082b0",
   "metadata": {},
   "outputs": [
    {
     "name": "stdout",
     "output_type": "stream",
     "text": [
      "Result: 2.0\n",
      "No exception occurred\n",
      "Finally block executed\n",
      "Age is valid\n",
      "Exception: Age cannot be negative\n"
     ]
    }
   ],
   "source": [
    "# Example: try, except, else, finally, and raise\n",
    "try:\n",
    "    x = 10\n",
    "    y = 5\n",
    "    result = x / y\n",
    "    print(\"Result:\", result)\n",
    "except ZeroDivisionError as error:\n",
    "    print(\"Exception:\", error)\n",
    "else:\n",
    "    print(\"No exception occurred\")\n",
    "finally:\n",
    "    print(\"Finally block executed\")\n",
    "    x = None\n",
    "\n",
    "# Example: raise\n",
    "def validate_age(age):\n",
    "    if age < 0:\n",
    "        raise ValueError(\"Age cannot be negative\")\n",
    "    elif age > 120:\n",
    "        raise ValueError(\"Invalid age\")\n",
    "    else:\n",
    "        print(\"Age is valid\")\n",
    "\n",
    "try:\n",
    "    validate_age(25)\n",
    "    validate_age(-5)\n",
    "except ValueError as error:\n",
    "    print(\"Exception:\", error)\n"
   ]
  },
  {
   "cell_type": "code",
   "execution_count": null,
   "id": "a1175968-c436-4498-a36b-448595cf3bbd",
   "metadata": {},
   "outputs": [],
   "source": [
    "first example, the try block attempts to perform a division operation, which may raise a ZeroDivisionError. If no exception occurs, \n",
    "the else block is executed, and the finally block always executes, regardless of whether an exception occurred or not.\n",
    "\n",
    "In the second example, the validate_age() function raises a ValueError if the age is negative or exceeds 120. The raise statement is used\n",
    "to raise the exception. The try-except block catches the ValueError exception and prints the error message."
   ]
  },
  {
   "cell_type": "code",
   "execution_count": null,
   "id": "a48878fc-1721-49c3-9ec1-f310b8c12fd0",
   "metadata": {},
   "outputs": [],
   "source": [
    "Q5. What are Custom Exceptions in Python? Why do we need Custom Exceptions? Explain with an example.\n",
    "\n",
    "Ans: Custom Exceptions in Python are user-defined exception classes that inherit from the base Exception class or its subclasses. \n",
    "They allow programmers to define their own specific exceptions that can be raised in certain situations.\n",
    "Custom Exceptions in Python to handle specific exceptional conditions that are not covered by the built-in exceptions.\n",
    "By defining custom exceptions, we can provide more meaningful error messages and handle unique error scenarios in a specialized way."
   ]
  },
  {
   "cell_type": "code",
   "execution_count": 5,
   "id": "f869313b-0f4f-4c1a-bf87-8834c2d511b0",
   "metadata": {},
   "outputs": [
    {
     "name": "stdout",
     "output_type": "stream",
     "text": [
      "Data processing successful\n",
      "Exception: Invalid data\n"
     ]
    }
   ],
   "source": [
    "# example\n",
    "class MyException(Exception):\n",
    "    pass\n",
    "\n",
    "def process_data(data):\n",
    "    if data < 0:\n",
    "        raise MyException(\"Invalid data\")\n",
    "    else:\n",
    "        print(\"Data processing successful\")\n",
    "\n",
    "try:\n",
    "    process_data(10)\n",
    "    process_data(-5)\n",
    "except MyException as error:\n",
    "    print(\"Exception:\", error)\n"
   ]
  },
  {
   "cell_type": "code",
   "execution_count": null,
   "id": "3135a02d-dda4-43c7-aac8-77c29a206aad",
   "metadata": {},
   "outputs": [],
   "source": [
    "In this example, the MyException class is a custom exception that is defined by inheriting from the base Exception class. \n",
    "The process_data() function raises a MyException if the data is negative. The try-except block catches the MyException and prints the error message.\n",
    "\n",
    "Custom exceptions provide a way to handle specific exceptional conditions in a controlled and structured manner, improving the readability and \n",
    "maintainability of the code. They allow for more granular exception handling and make the code more expressive and self-explanatory."
   ]
  },
  {
   "cell_type": "code",
   "execution_count": null,
   "id": "29cc2994-a712-4a47-a47a-7a77c51b0f4f",
   "metadata": {},
   "outputs": [],
   "source": [
    "Q6. create a custom exception class Use this class to handle an exception.\n",
    "\n",
    "Ans: To create a custom exception class in Python, we can define a new class that inherits from the base Exception class or any of its subclasses.\n",
    "Here's an example of creating a custom exception class and using it to handle an exception:"
   ]
  },
  {
   "cell_type": "code",
   "execution_count": null,
   "id": "6638fa28-7d96-4844-b459-b7c5b7d46683",
   "metadata": {},
   "outputs": [],
   "source": [
    "\n",
    "class CustomException(Exception):\n",
    "    pass\n",
    "\n",
    "def divide(x, y):\n",
    "    try:\n",
    "        if y == 0:\n",
    "            raise CustomException(\"Cannot divide by zero\")\n",
    "        result = x / y\n",
    "        print(\"Result:\", result)\n",
    "    except CustomException as error:\n",
    "        print(\"Custom Exception:\", error)\n",
    "\n",
    "# Calling the function with different arguments\n",
    "divide(10, 2)\n",
    "divide(10, 0)\n"
   ]
  }
 ],
 "metadata": {
  "kernelspec": {
   "display_name": "Python 3 (ipykernel)",
   "language": "python",
   "name": "python3"
  },
  "language_info": {
   "codemirror_mode": {
    "name": "ipython",
    "version": 3
   },
   "file_extension": ".py",
   "mimetype": "text/x-python",
   "name": "python",
   "nbconvert_exporter": "python",
   "pygments_lexer": "ipython3",
   "version": "3.10.8"
  }
 },
 "nbformat": 4,
 "nbformat_minor": 5
}
